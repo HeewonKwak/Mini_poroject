{
  "nbformat": 4,
  "nbformat_minor": 0,
  "metadata": {
    "colab": {
      "name": "Our_class_MBTI.ipynb",
      "provenance": [],
      "collapsed_sections": [
        "SRjB8xMq_mBj"
      ]
    },
    "kernelspec": {
      "name": "python3",
      "display_name": "Python 3"
    },
    "language_info": {
      "name": "python"
    }
  },
  "cells": [
    {
      "cell_type": "markdown",
      "metadata": {
        "id": "SRjB8xMq_mBj"
      },
      "source": [
        "# **구글 드라이브에서 데이터 받아오기**"
      ]
    },
    {
      "cell_type": "code",
      "metadata": {
        "id": "N6btVaj6PV7G"
      },
      "source": [
        "# from google.colab import drive\n",
        "# drive.mount('/content/drive')"
      ],
      "execution_count": null,
      "outputs": []
    },
    {
      "cell_type": "code",
      "metadata": {
        "id": "F35X00m7Qitu"
      },
      "source": [
        "# # 경로 설정 \n",
        "# import os\n",
        "# os.chdir('/content/drive/MyDrive/Colab Notebooks/data')"
      ],
      "execution_count": null,
      "outputs": []
    },
    {
      "cell_type": "markdown",
      "metadata": {
        "id": "o5TpSf8l_t5a"
      },
      "source": [
        "# **따로 저장한 데이터**"
      ]
    },
    {
      "cell_type": "code",
      "metadata": {
        "id": "qiQMyCrB1Hlh"
      },
      "source": [
        "# 우리 반 MBTI 데이터\n",
        "# data = [['김진우',\n",
        "#   '서민종',\n",
        "#   '김도현',\n",
        "#   '이건희',\n",
        "#   '김정훈',\n",
        "#   '안성경',\n",
        "#   '김태희',\n",
        "#   '정의형',\n",
        "#   '강민지',\n",
        "#   '김준형',\n",
        "#   '최도영',\n",
        "#   '류재원',\n",
        "#   '김태형',\n",
        "#   '노건우',\n",
        "#   '곽수연',\n",
        "#   '윤솔아',\n",
        "#   '전다운',\n",
        "#   '이승진',\n",
        "#   '박현영',\n",
        "#   '김승문',\n",
        "#   '조혜빈',\n",
        "#   '오동혁',\n",
        "#   '유수정',\n",
        "#   '곽희원',\n",
        "#   '이주용',\n",
        "#   '김연상',\n",
        "#   '황선진',\n",
        "#   '박우성'],\n",
        "#  ['INTP',\n",
        "#   'ENTJ',\n",
        "#   'ISFJ',\n",
        "#   'ISFJ',\n",
        "#   '',\n",
        "#   'ENFP',\n",
        "#   'INFJ',\n",
        "#   'INFJ',\n",
        "#   'ISFP',\n",
        "#   'ESTP',\n",
        "#   'INFP',\n",
        "#   'INTJ',\n",
        "#   'ISTP',\n",
        "#   'INTP',\n",
        "#   'ISFP',\n",
        "#   'ESFP',\n",
        "#   'ESTJ',\n",
        "#   'ESTJ',\n",
        "#   'INTP',\n",
        "#   'INTJ',\n",
        "#   'ISFP',\n",
        "#   'ISFJ',\n",
        "#   'ESFJ',\n",
        "#   'ISFP',\n",
        "#   'ESTJ',\n",
        "#   'ESTJ',\n",
        "#   'INFJ',\n",
        "#   'ISFJ']]"
      ],
      "execution_count": 1,
      "outputs": []
    },
    {
      "cell_type": "code",
      "metadata": {
        "id": "MUetdrE2LrgY"
      },
      "source": [
        "import numpy as np\n",
        "\n",
        "# MBTI 궁합 점수 행렬\n",
        "MBTI_GOODNESS = np.matrix([\n",
        "    [4, 4, 4, 5, 4, 5, 4, 4, 1, 1, 1, 1, 1, 1, 1, 1],\n",
        "    [4, 4, 5, 4, 5, 4, 4, 4, 1, 1, 1, 1, 1, 1, 1, 1],\n",
        "    [4, 5, 4, 4, 4, 4, 4, 5, 1, 1, 1, 1, 1, 1, 1, 1],\n",
        "    [5, 4, 4, 4, 4, 4, 4, 4, 5, 1, 1, 1, 1, 1, 1, 1],\n",
        "    [4, 5, 4, 4, 4, 4, 4, 5, 3, 3, 3, 3, 2, 2, 2, 2],\n",
        "    [5, 4, 4, 4, 4, 4, 5, 4, 3, 3, 3, 3, 3, 3, 3, 3],\n",
        "    [4, 4, 4, 4, 4, 5, 4, 4, 3, 3, 3, 3, 2, 2, 2, 5],\n",
        "    [4, 4, 5, 4, 5, 4, 4, 4, 3, 3, 3, 3, 2, 2, 2, 2],\n",
        "    [1, 1, 1, 5, 3, 3, 3, 3, 2, 2, 2, 2, 3, 5, 3, 5],\n",
        "    [1, 1, 1, 1, 3, 3, 3, 3, 2, 2, 2, 2, 5, 3, 5, 3],\n",
        "    [1, 1, 1, 1, 3, 3, 3, 3, 2, 2, 2, 2, 3, 5, 3, 5],\n",
        "    [1, 1, 1, 1, 3, 3, 3, 3, 2, 2, 2, 2, 5, 3, 5, 3],\n",
        "    [1, 1, 1, 1, 2, 3, 2, 2, 3, 5, 3, 5, 4, 4, 4, 4],\n",
        "    [1, 1, 1, 1, 2, 3, 2, 2, 5, 3, 5, 3, 4, 4, 4, 4],\n",
        "    [1, 1, 1, 1, 2, 3, 2, 2, 3, 5, 3, 5, 4, 4, 4, 4],\n",
        "    [1, 1, 1, 1, 2, 3, 5, 2, 5, 3, 5, 3, 4, 4, 4, 4]\n",
        "])\n",
        "\n",
        "# MBTI 숫자로 저장\n",
        "MBTI_MAP = dict(\n",
        "    INFP=0,\n",
        "    ENFP=1,\n",
        "    INFJ=2,\n",
        "    ENFJ=3,\n",
        "    INTJ=4,\n",
        "    ENTJ=5,\n",
        "    INTP=6,\n",
        "    ENTP=7,\n",
        "    ISFP=8,\n",
        "    ESFP=9,\n",
        "    ISTP=10,\n",
        "    ESTP=11,\n",
        "    ISFJ=12,\n",
        "    ESFJ=13,\n",
        "    ISTJ=14,\n",
        "    ESTJ=15\n",
        ")\n",
        "\n",
        "# 점수에 따른 멘트\n",
        "GOODNESS_DESC = [\n",
        "    '',\n",
        "    '진짜 궁합 최악! 지구 멸망의 길',\n",
        "    '뭐.. 최악은 면했지만 그닥..',\n",
        "    '안 맞는 것, 맞는 것 딱 반반',\n",
        "    '아주 좋은 관계가 될 수 있음!',\n",
        "    '우리 인연 영원히 뽀에버! 천생연분!'\n",
        "]\n",
        "\n",
        "# GOODNESS_DESC = [\n",
        "#     '',\n",
        "#     '궁합 순위 5등... 서로 노력하면 좋을거 같아요!',\n",
        "#     '궁합 순위 4등. 5등은 아니니까 희망을 가져요!',\n",
        "#     '궁합 순위 3등 안 맞는 것, 맞는 것 딱 반반',\n",
        "#     '궁합 순위 2등! ',\n",
        "#     '궁합 순위 1등!!! 말하지 않아도 알아요~'\n",
        "# ]"
      ],
      "execution_count": 2,
      "outputs": []
    },
    {
      "cell_type": "markdown",
      "metadata": {
        "id": "IwAjld7i_-eR"
      },
      "source": [
        "# **함수들 코드**"
      ]
    },
    {
      "cell_type": "code",
      "metadata": {
        "id": "949MRs4X0eJp"
      },
      "source": [
        "# 필요한 함수 호출\n",
        "import csv\n",
        "import numpy as np"
      ],
      "execution_count": 3,
      "outputs": []
    },
    {
      "cell_type": "code",
      "metadata": {
        "id": "L9Y0oAJiPQEv"
      },
      "source": [
        "# 데이터를 불러오는 코드\n",
        "# def load_data():\n",
        "#   with open('Our_Class_MBTI.csv') as csvfile:\n",
        "#       csvreader = csv.reader(csvfile)\n",
        "#       our_class_data = []\n",
        "#       for row in csvreader:\n",
        "#           our_class_data.append(row)\n",
        "#   return our_class_data"
      ],
      "execution_count": 4,
      "outputs": []
    },
    {
      "cell_type": "code",
      "metadata": {
        "id": "zDYpXVbm1y4A"
      },
      "source": [
        "# 이름을 받는 함수\n",
        "def get_names():\n",
        "  name1 = input(\"첫번째 학생의 이름을 입력하세요.: \")\n",
        "  name2 = input(\"두번째 학생의 이름을 입력하세요.: \")\n",
        "  print(\"-----------------------------------------\")\n",
        "  mbti1 = input(\"첫번째 학생의 MBTI를 입력하세요.: \")\n",
        "  mbti2 = input(\"두번째 학생의 MBTI를 입력하세요.: \")\n",
        "  return name1, name2, mbti1, mbti2"
      ],
      "execution_count": 5,
      "outputs": []
    },
    {
      "cell_type": "code",
      "metadata": {
        "id": "215qh-Ara-IE"
      },
      "source": [
        "# 이름(입력값)으로부터 MBTI를 출력하고 MBTI에 매칭되는 숫자를 출력하는 함수\n",
        "def mbti_to_num(name1, name2, mbti1, mbti2, data):\n",
        "  # mbti1 = data[1][data[0].index(name1)]\n",
        "  # mbti2 = data[1][data[0].index(name2)]\n",
        "  print(\"{}님의 MBTI는 {}입니다.\".format(name1, mbti1))\n",
        "  print(\"{}님의 MBTI는 {}입니다.\".format(name2, mbti2))\n",
        "  print(\"-----------------------------------------\")\n",
        "  print(\"{}님과 {}님의 MBTI 궁합은 과연?!\".format(name1, name2))\n",
        "  num1 = MBTI_MAP[mbti1]\n",
        "  num2 = MBTI_MAP[mbti2]\n",
        "\n",
        "  return num1, num2"
      ],
      "execution_count": 6,
      "outputs": []
    },
    {
      "cell_type": "code",
      "metadata": {
        "id": "lW4dxAMX8Me2"
      },
      "source": [
        "# 점수에 맞는 멘트 출력\n",
        "def mbti_score(num1, num2):\n",
        "  print(GOODNESS_DESC[MBTI_GOODNESS.item((num1, num2))])"
      ],
      "execution_count": 7,
      "outputs": []
    },
    {
      "cell_type": "code",
      "metadata": {
        "id": "XAdRXMfhBpG8"
      },
      "source": [
        "def final_ment():\n",
        "  print(\"-----------------------------------------\")\n",
        "  print(\"재미로만 봐주세요!!!\")"
      ],
      "execution_count": 8,
      "outputs": []
    },
    {
      "cell_type": "code",
      "metadata": {
        "id": "Qkc1CO0V0wHT"
      },
      "source": [
        "# 메인 함수\n",
        "def main():\n",
        "  # data = load_data()\n",
        "  name1, name2, mbti1, mbti2 = get_names()\n",
        "  num1, num2 = mbti_to_num(name1, name2, mbti1, mbti2, data)\n",
        "  mbti_score(num1, num2)\n",
        "  final_ment()"
      ],
      "execution_count": 9,
      "outputs": []
    },
    {
      "cell_type": "markdown",
      "metadata": {
        "id": "kcxYUxslA7kF"
      },
      "source": [
        "# **메인 함수 실행**"
      ]
    },
    {
      "cell_type": "code",
      "metadata": {
        "id": "-9SM5Qj85q7a",
        "colab": {
          "base_uri": "https://localhost:8080/"
        },
        "outputId": "f16389e1-a33a-475c-eebc-2e7aee4f169d"
      },
      "source": [
        "main()"
      ],
      "execution_count": 10,
      "outputs": [
        {
          "output_type": "stream",
          "text": [
            "첫번째 학생의 이름을 입력하세요.: 곽희원\n",
            "두번째 학생의 이름을 입력하세요.: 김태형\n",
            "-----------------------------------------\n",
            "첫번째 학생의 MBTI를 입력하세요.: ISFP\n",
            "두번째 학생의 MBTI를 입력하세요.: ISFP\n",
            "곽희원님의 MBTI는 ISFP입니다.\n",
            "김태형님의 MBTI는 ISFP입니다.\n",
            "-----------------------------------------\n",
            "곽희원님과 김태형님의 MBTI 궁합은 과연?!\n",
            "뭐.. 최악은 면했지만 그닥..\n",
            "-----------------------------------------\n",
            "재미로만 봐주세요!!!\n"
          ],
          "name": "stdout"
        }
      ]
    },
    {
      "cell_type": "markdown",
      "metadata": {
        "id": "-M3UX0K6gBXk"
      },
      "source": [
        "**사용 방법!**\n",
        "\n",
        "- '런타임' 창에 '모두 실행'을 누릅니다.\n",
        "- '런타임' 창이 안 뜨면 모든 셀 시작하시면 됩니다.\n",
        "- main()의 함수에서 입력하면 된다."
      ]
    }
  ]
}